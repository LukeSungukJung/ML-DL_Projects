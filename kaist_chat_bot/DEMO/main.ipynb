{
 "cells": [
  {
   "cell_type": "code",
   "execution_count": 138,
   "metadata": {},
   "outputs": [],
   "source": [
    "import torch\n",
    "import mymodel\n",
    "import torch.nn as nn\n",
    "import torch.nn.functional as F\n",
    "from torch.autograd import Variable\n",
    "import pickle\n",
    "import MeCab\n",
    "from mecab_split import mecabsplit\n",
    "#tagger = MeCab.Tagger()\n",
    "tagger = MeCab.Tagger('-d /usr/local/lib/mecab/dic/mecab-ko-dic')"
   ]
  },
  {
   "cell_type": "code",
   "execution_count": 139,
   "metadata": {},
   "outputs": [],
   "source": [
    "content_vocab = {'unk':0}\n",
    "intent_vocab={}\n",
    "intent_list=[]\n",
    "\n",
    "data_intent=''\n",
    "intent_idx=0\n",
    "vocab_idx=1\n",
    "\n",
    "for line in open('mydata.txt','r',encoding='utf-8'):\n",
    "    line = line.strip().split('\\t')\n",
    "    if len(line)>1:\n",
    "        intent=line[1]\n",
    "        if intent not in intent_vocab:\n",
    "            intent_vocab[intent]=intent_idx\n",
    "            intent_list.append(intent)\n",
    "            intent_idx +=1\n",
    "    else:\n",
    "        line = mecabsplit(tagger,line[0],False)\n",
    "        for it in line:\n",
    "            if it not in content_vocab:\n",
    "                content_vocab[it] = vocab_idx\n",
    "                vocab_idx +=1\n",
    "                \n",
    "                "
   ]
  },
  {
   "cell_type": "code",
   "execution_count": 140,
   "metadata": {},
   "outputs": [
    {
     "name": "stdout",
     "output_type": "stream",
     "text": [
      "356 4\n"
     ]
    },
    {
     "data": {
      "text/plain": [
       "CNN_Text(\n",
       "  (embed): Embedding(356, 100)\n",
       "  (convs1): ModuleList(\n",
       "    (0): Conv2d(1, 20, kernel_size=(1, 100), stride=(1, 1))\n",
       "    (1): Conv2d(1, 20, kernel_size=(2, 100), stride=(1, 1))\n",
       "    (2): Conv2d(1, 20, kernel_size=(3, 100), stride=(1, 1))\n",
       "  )\n",
       "  (dropout): Dropout(p=0.2)\n",
       "  (fc1): Linear(in_features=60, out_features=4, bias=True)\n",
       ")"
      ]
     },
     "execution_count": 140,
     "metadata": {},
     "output_type": "execute_result"
    }
   ],
   "source": [
    "cnn = mymodel.CNN_Text(vocab_idx,intent_idx)\n",
    "print(vocab_idx, intent_idx) # 파일에 나타난 단어수, 의도 갯수(클래스)\n",
    "optimizer = torch.optim.Adam(cnn.parameters())\n",
    "cnn.train()"
   ]
  },
  {
   "cell_type": "code",
   "execution_count": 141,
   "metadata": {},
   "outputs": [
    {
     "name": "stdout",
     "output_type": "stream",
     "text": [
      "\u001b[31mIMDB Dataset.csv\u001b[m\u001b[m* \u001b[31mmain.ipynb\u001b[m\u001b[m*       \u001b[31mmydata.txt\u001b[m\u001b[m*       \u001b[31mresponse.txt\u001b[m\u001b[m*\r\n",
      "\u001b[34m__pycache__\u001b[m\u001b[m/      \u001b[31mmecab_split.py\u001b[m\u001b[m*   \u001b[31mmymodel.py\u001b[m\u001b[m*       \u001b[31mtestdata.txt\u001b[m\u001b[m*\r\n"
     ]
    }
   ],
   "source": [
    "ls"
   ]
  },
  {
   "cell_type": "code",
   "execution_count": 142,
   "metadata": {},
   "outputs": [
    {
     "name": "stdout",
     "output_type": "stream",
     "text": [
      "tensor(221.0006)\n",
      "tensor(193.2096)\n",
      "tensor(169.4205)\n",
      "tensor(149.7665)\n",
      "tensor(132.2559)\n",
      "tensor(117.3417)\n",
      "tensor(109.2918)\n",
      "tensor(103.2583)\n",
      "tensor(96.4019)\n",
      "tensor(90.6367)\n"
     ]
    }
   ],
   "source": [
    "epoch = 10\n",
    "for e in range(epoch):\n",
    "    totalloss = 0\n",
    "    for line in open('mydata.txt','r',encoding='utf-8'):\n",
    "        line = line.strip().split('\\t')\n",
    "        \n",
    "        if len(line)> 1:\n",
    "            target = Variable(torch.LongTensor([intent_vocab[line[1]]]))\n",
    "            continue\n",
    "\n",
    "        optimizer.zero_grad()\n",
    "\n",
    "        cont = []\n",
    "        line = mecabsplit(tagger,line[0],False)\n",
    "        for it in line:\n",
    "            cont.append(content_vocab[it])\n",
    "        cont = Variable(torch.LongTensor(cont)).view(1,-1)\n",
    "        pred = cnn(cont)\n",
    "        \n",
    "        loss = F.cross_entropy(pred,target)\n",
    "        totalloss += loss.data\n",
    "        loss.backward()\n",
    "        optimizer.step()\n",
    "    print (totalloss)"
   ]
  },
  {
   "cell_type": "code",
   "execution_count": 145,
   "metadata": {},
   "outputs": [],
   "source": [
    "response = []\n",
    "for line in open('response.txt','r',encoding='utf-8'):\n",
    "    line=line.strip()\n",
    "    response.append(line)"
   ]
  },
  {
   "cell_type": "code",
   "execution_count": 150,
   "metadata": {},
   "outputs": [
    {
     "name": "stdout",
     "output_type": "stream",
     "text": [
      "input :  ['본인', '은', '무엇', '을', '잘', '하나', '이', '오']\n",
      "[[0.21940705 0.15997027 0.42057458 0.20004816]]\n",
      "intent :  ASK_SOCIALITY\n",
      "input :  ['삼성', '에', '대하', '아서', '어떻게', '생각', '하', '시', '어요']\n",
      "[[0.05949122 0.6748369  0.2174089  0.04826294]]\n",
      "intent :  ASK_PERSONALITY\n",
      "input :  ['어리', 'ᆫ', '시절', '부터', '연락', '하', '는', '친구', '는', '몇', '명', '이', 'ᆫ가요']\n",
      "[[0.14240685 0.05898617 0.77829105 0.02031595]]\n",
      "intent :  ASK_SOCIALITY\n",
      "input :  ['여자', '친구', '있', '어요']\n",
      "[[0.18112522 0.29110777 0.2847897  0.24297732]]\n",
      "intent :  ASK_PERSONALITY\n",
      "input :  ['부모', '님', '에', '대하', '아', '어떻게', '생각', '하', '나요']\n",
      "[[0.12012345 0.40078163 0.4273098  0.05178505]]\n",
      "intent :  ASK_SOCIALITY\n"
     ]
    }
   ],
   "source": [
    "cnn.eval()\n",
    "for line in open('testdata.txt','r',encoding='utf-8'):\n",
    "    line = line.strip()\n",
    "    \n",
    "    line = mecabsplit(tagger,line,False)\n",
    "    cont = []\n",
    "    for it in line:\n",
    "        if it in content_vocab:\n",
    "            cont.append(content_vocab[it]) # cont에는 입력문에 나타난 단어들의 index 저장됨\n",
    "        else:\n",
    "            cont.append(content_vocab['unk'])\n",
    "    cont = Variable(torch.LongTensor(cont)).view(1,-1)\n",
    "    pred = cnn(cont)\n",
    "    v,i = torch.max(pred,1) # pred는 (p1, p2) 즉, 클래스별 확률 v: 둘중 큰값 i:큰값 클래스의 인덱스\n",
    "    \n",
    "    print('input : ',line)\n",
    "    print (torch.nn.functional.softmax(pred,dim=-1).data.numpy() )\n",
    "    print('intent : ',intent_list[int(i)])"
   ]
  },
  {
   "cell_type": "code",
   "execution_count": null,
   "metadata": {},
   "outputs": [],
   "source": []
  },
  {
   "cell_type": "code",
   "execution_count": null,
   "metadata": {},
   "outputs": [],
   "source": []
  },
  {
   "cell_type": "code",
   "execution_count": null,
   "metadata": {},
   "outputs": [],
   "source": []
  }
 ],
 "metadata": {
  "kernelspec": {
   "display_name": "Python 3",
   "language": "python",
   "name": "python3"
  },
  "language_info": {
   "codemirror_mode": {
    "name": "ipython",
    "version": 3
   },
   "file_extension": ".py",
   "mimetype": "text/x-python",
   "name": "python",
   "nbconvert_exporter": "python",
   "pygments_lexer": "ipython3",
   "version": "3.6.8"
  }
 },
 "nbformat": 4,
 "nbformat_minor": 2
}
