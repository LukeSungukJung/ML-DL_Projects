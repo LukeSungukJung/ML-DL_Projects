{
 "cells": [
  {
   "cell_type": "code",
   "execution_count": 1,
   "metadata": {
    "_cell_guid": "b1076dfc-b9ad-4769-8c92-a6c4dae69d19",
    "_uuid": "8f2839f25d086af736a60e9eeb907d3b93b6e0e5"
   },
   "outputs": [
    {
     "name": "stderr",
     "output_type": "stream",
     "text": [
      "Using TensorFlow backend.\n"
     ]
    }
   ],
   "source": [
    "import os,shutil\n",
    "import glob\n",
    "import numpy as np\n",
    "import cv2\n",
    "import tensorflow as tf\n",
    "import matplotlib.pyplot as plt\n",
    "from keras.models import *\n",
    "from keras.layers import *\n",
    "from keras.layers.convolutional import Convolution2D, MaxPooling2D, ZeroPadding2D\n",
    "from keras.preprocessing.image import *\n",
    "from keras.callbacks import EarlyStopping\n",
    "from keras import regularizers,optimizers\n",
    "from keras.callbacks import LearningRateScheduler\n",
    "from keras import *\n",
    "from keras.applications.vgg16 import VGG16\n",
    "from keras.applications.inception_v3 import InceptionV3\n",
    "#walk is 1, run is 0\n",
    "original_dataset_dir = \"../input\"\n",
    "\n",
    "train_dir = os.path.join(original_dataset_dir,'walk_or_run_train/train')\n",
    "#'../input/walk_or_run_train/train'\n",
    "test_dir= os.path.join(original_dataset_dir,'walk_or_run_test/test')\n",
    "#'../input/walk_or_run_test/test'\n"
   ]
  },
  {
   "cell_type": "code",
   "execution_count": 2,
   "metadata": {},
   "outputs": [],
   "source": [
    "def lr_schedule(epoch):\n",
    "    lrate = 0.0005\n",
    "    if epoch < 2:\n",
    "        lrate = 0.003\n",
    "    if epoch > 5:\n",
    "        lrate = 0.0001\n",
    "    return lrate"
   ]
  },
  {
   "cell_type": "code",
   "execution_count": 3,
   "metadata": {
    "_uuid": "f696709d2eb6a10088cd2d7ae2ddbbc14796a25c"
   },
   "outputs": [],
   "source": [
    "es = EarlyStopping(monitor='val_acc', min_delta=0, patience=5, verbose=1, mode='auto')"
   ]
  },
  {
   "cell_type": "code",
   "execution_count": 4,
   "metadata": {
    "_uuid": "1e48fdc46842d550348eea153e906331b3db72ac"
   },
   "outputs": [
    {
     "name": "stdout",
     "output_type": "stream",
     "text": [
      "Found 600 images belonging to 2 classes.\n",
      "Found 141 images belonging to 2 classes.\n"
     ]
    }
   ],
   "source": [
    "train_datagen = ImageDataGenerator(rotation_range=30,width_shift_range=0.1,\\\n",
    "                             height_shift_range=0.1,shear_range=0.1,zoom_range=0.1,\\\n",
    "                                 horizontal_flip=True,vertical_flip=False)\n",
    "test_datagen = ImageDataGenerator()\n",
    "train_generator = train_datagen.flow_from_directory(\n",
    "    train_dir,\n",
    "    target_size=(224, 224),\n",
    "    batch_size=16,\n",
    "    class_mode='categorical',\n",
    "    seed=2019,\n",
    "    color_mode='rgb'\n",
    ")\n",
    "test_generator = test_datagen.flow_from_directory(test_dir,target_size=(224, 224),\n",
    "    batch_size=16,\n",
    "    class_mode='categorical',color_mode='rgb')"
   ]
  },
  {
   "cell_type": "code",
   "execution_count": 5,
   "metadata": {},
   "outputs": [],
   "source": [
    "weight_decay=1e-4\n",
    "img_input = Input(shape=(224,224,3))\n",
    "conv_base =Conv2D(4,(4,4),kernel_regularizer=regularizers.l2(weight_decay),activation='elu',padding='same')(img_input)\n",
    "conv_base =Conv2D(8,(2,2),kernel_regularizer=regularizers.l2(weight_decay),activation='elu',padding='same')(conv_base)\n",
    "conv_base =Conv2D(8,(2,2),kernel_regularizer=regularizers.l2(weight_decay),activation='elu')(conv_base)\n",
    "conv_base = BatchNormalization()(conv_base)\n",
    "\n",
    "\n",
    "conv_layer_1 =Conv2D(8,(2,2),kernel_regularizer=regularizers.l2(weight_decay),activation='elu')(conv_base)\n",
    "conv_layer_1 = ZeroPadding2D((1,1))(conv_layer_1)\n",
    "conv_layer_1 =Conv2D(8,(2,2),kernel_regularizer=regularizers.l2(weight_decay),activation='elu')(conv_layer_1)\n",
    "conv_layer_1 = BatchNormalization()(conv_layer_1)\n",
    "\n",
    "conv_layer_2 =Conv2D(4,(3,3),kernel_regularizer=regularizers.l2(weight_decay),activation='elu')(conv_base)\n",
    "conv_layer_2 = ZeroPadding2D((2,2))(conv_layer_2)\n",
    "conv_layer_2 =Conv2D(8,(3,3),kernel_regularizer=regularizers.l2(weight_decay),activation='elu')(conv_layer_2)\n",
    "conv_layer_2 = BatchNormalization()(conv_layer_2)\n",
    "\n",
    "\n",
    "\n",
    "conv_layer_3 =Conv2D(2,(1,1),kernel_regularizer=regularizers.l2(weight_decay),activation='elu')(conv_base)\n",
    "conv_layer_3 =Conv2D(8,(1,1),kernel_regularizer=regularizers.l2(weight_decay),activation='elu')(conv_layer_3)\n",
    "conv_layer_3 = BatchNormalization()(conv_layer_3)\n",
    "\n",
    "conv_final = concatenate([conv_layer_1,conv_layer_2,conv_layer_3])\n",
    "\n",
    "gap = GlobalAveragePooling2D()(conv_final)\n",
    "Den = Dense(16,activation='relu')(gap)\n",
    "Den = BatchNormalization()(Den)\n",
    "Den = Dense(2,activation='softmax')(Den)\n",
    "\n",
    "model = Model(img_input,Den)\n"
   ]
  },
  {
   "cell_type": "code",
   "execution_count": 6,
   "metadata": {
    "_uuid": "23f9c7196adb52bacb65b718db6811a68e490cf9"
   },
   "outputs": [
    {
     "name": "stdout",
     "output_type": "stream",
     "text": [
      "__________________________________________________________________________________________________\n",
      "Layer (type)                    Output Shape         Param #     Connected to                     \n",
      "==================================================================================================\n",
      "input_1 (InputLayer)            (None, 224, 224, 3)  0                                            \n",
      "__________________________________________________________________________________________________\n",
      "conv2d_1 (Conv2D)               (None, 224, 224, 4)  196         input_1[0][0]                    \n",
      "__________________________________________________________________________________________________\n",
      "conv2d_2 (Conv2D)               (None, 224, 224, 8)  136         conv2d_1[0][0]                   \n",
      "__________________________________________________________________________________________________\n",
      "conv2d_3 (Conv2D)               (None, 223, 223, 8)  264         conv2d_2[0][0]                   \n",
      "__________________________________________________________________________________________________\n",
      "batch_normalization_1 (BatchNor (None, 223, 223, 8)  32          conv2d_3[0][0]                   \n",
      "__________________________________________________________________________________________________\n",
      "conv2d_4 (Conv2D)               (None, 222, 222, 8)  264         batch_normalization_1[0][0]      \n",
      "__________________________________________________________________________________________________\n",
      "conv2d_6 (Conv2D)               (None, 221, 221, 4)  292         batch_normalization_1[0][0]      \n",
      "__________________________________________________________________________________________________\n",
      "zero_padding2d_1 (ZeroPadding2D (None, 224, 224, 8)  0           conv2d_4[0][0]                   \n",
      "__________________________________________________________________________________________________\n",
      "zero_padding2d_2 (ZeroPadding2D (None, 225, 225, 4)  0           conv2d_6[0][0]                   \n",
      "__________________________________________________________________________________________________\n",
      "conv2d_8 (Conv2D)               (None, 223, 223, 2)  18          batch_normalization_1[0][0]      \n",
      "__________________________________________________________________________________________________\n",
      "conv2d_5 (Conv2D)               (None, 223, 223, 8)  264         zero_padding2d_1[0][0]           \n",
      "__________________________________________________________________________________________________\n",
      "conv2d_7 (Conv2D)               (None, 223, 223, 8)  296         zero_padding2d_2[0][0]           \n",
      "__________________________________________________________________________________________________\n",
      "conv2d_9 (Conv2D)               (None, 223, 223, 8)  24          conv2d_8[0][0]                   \n",
      "__________________________________________________________________________________________________\n",
      "batch_normalization_2 (BatchNor (None, 223, 223, 8)  32          conv2d_5[0][0]                   \n",
      "__________________________________________________________________________________________________\n",
      "batch_normalization_3 (BatchNor (None, 223, 223, 8)  32          conv2d_7[0][0]                   \n",
      "__________________________________________________________________________________________________\n",
      "batch_normalization_4 (BatchNor (None, 223, 223, 8)  32          conv2d_9[0][0]                   \n",
      "__________________________________________________________________________________________________\n",
      "concatenate_1 (Concatenate)     (None, 223, 223, 24) 0           batch_normalization_2[0][0]      \n",
      "                                                                 batch_normalization_3[0][0]      \n",
      "                                                                 batch_normalization_4[0][0]      \n",
      "__________________________________________________________________________________________________\n",
      "global_average_pooling2d_1 (Glo (None, 24)           0           concatenate_1[0][0]              \n",
      "__________________________________________________________________________________________________\n",
      "dense_1 (Dense)                 (None, 16)           400         global_average_pooling2d_1[0][0] \n",
      "__________________________________________________________________________________________________\n",
      "batch_normalization_5 (BatchNor (None, 16)           64          dense_1[0][0]                    \n",
      "__________________________________________________________________________________________________\n",
      "dense_2 (Dense)                 (None, 2)            34          batch_normalization_5[0][0]      \n",
      "==================================================================================================\n",
      "Total params: 2,380\n",
      "Trainable params: 2,284\n",
      "Non-trainable params: 96\n",
      "__________________________________________________________________________________________________\n"
     ]
    }
   ],
   "source": [
    "model.compile(optimizer='Adam',loss='categorical_crossentropy',metrics=['acc'])\n",
    "model.summary()"
   ]
  },
  {
   "cell_type": "code",
   "execution_count": 7,
   "metadata": {
    "_uuid": "d6d4821291bba8f80a3c302ba8881dde1a8758b1"
   },
   "outputs": [
    {
     "name": "stdout",
     "output_type": "stream",
     "text": [
      "Epoch 1/100\n",
      "100/100 [==============================] - 29s 294ms/step - loss: 0.7206 - acc: 0.5537 - val_loss: 0.6360 - val_acc: 0.7103\n",
      "Epoch 2/100\n",
      "100/100 [==============================] - 23s 234ms/step - loss: 0.6796 - acc: 0.5794 - val_loss: 0.6503 - val_acc: 0.6637\n",
      "Epoch 3/100\n",
      "100/100 [==============================] - 23s 230ms/step - loss: 0.6702 - acc: 0.5925 - val_loss: 0.6276 - val_acc: 0.6567\n",
      "Epoch 4/100\n",
      "100/100 [==============================] - 23s 230ms/step - loss: 0.6546 - acc: 0.6263 - val_loss: 0.6537 - val_acc: 0.6720\n",
      "Epoch 5/100\n",
      "100/100 [==============================] - 23s 228ms/step - loss: 0.6577 - acc: 0.6113 - val_loss: 0.6024 - val_acc: 0.7020\n",
      "Epoch 6/100\n",
      "100/100 [==============================] - 23s 227ms/step - loss: 0.6449 - acc: 0.6119 - val_loss: 0.7008 - val_acc: 0.5826\n",
      "Epoch 7/100\n",
      "100/100 [==============================] - 23s 228ms/step - loss: 0.6460 - acc: 0.6362 - val_loss: 0.6179 - val_acc: 0.6752\n",
      "Epoch 8/100\n",
      "100/100 [==============================] - 23s 225ms/step - loss: 0.6510 - acc: 0.6075 - val_loss: 0.6137 - val_acc: 0.6388\n",
      "Epoch 9/100\n",
      "100/100 [==============================] - 23s 228ms/step - loss: 0.6465 - acc: 0.6050 - val_loss: 0.6867 - val_acc: 0.5818\n",
      "Epoch 10/100\n",
      "100/100 [==============================] - 23s 228ms/step - loss: 0.6322 - acc: 0.6206 - val_loss: 0.6458 - val_acc: 0.6088\n",
      "Epoch 11/100\n",
      "100/100 [==============================] - 23s 228ms/step - loss: 0.6344 - acc: 0.6456 - val_loss: 0.6093 - val_acc: 0.6771\n",
      "Epoch 12/100\n",
      "100/100 [==============================] - 23s 226ms/step - loss: 0.6352 - acc: 0.6362 - val_loss: 0.6219 - val_acc: 0.6426\n",
      "Epoch 13/100\n",
      "100/100 [==============================] - 23s 227ms/step - loss: 0.6507 - acc: 0.6218 - val_loss: 0.7613 - val_acc: 0.5041\n",
      "Epoch 14/100\n",
      "100/100 [==============================] - 23s 225ms/step - loss: 0.6510 - acc: 0.6294 - val_loss: 0.6152 - val_acc: 0.6745\n",
      "Epoch 15/100\n",
      "100/100 [==============================] - 23s 232ms/step - loss: 0.6257 - acc: 0.6525 - val_loss: 0.6290 - val_acc: 0.6401\n",
      "Epoch 16/100\n",
      "100/100 [==============================] - 23s 226ms/step - loss: 0.6372 - acc: 0.6238 - val_loss: 0.5991 - val_acc: 0.6701\n",
      "Epoch 17/100\n",
      "100/100 [==============================] - 23s 228ms/step - loss: 0.6322 - acc: 0.6250 - val_loss: 0.5887 - val_acc: 0.7173\n",
      "Epoch 18/100\n",
      "100/100 [==============================] - 23s 228ms/step - loss: 0.6357 - acc: 0.6450 - val_loss: 0.6238 - val_acc: 0.6451\n",
      "Epoch 19/100\n",
      "100/100 [==============================] - 23s 225ms/step - loss: 0.6318 - acc: 0.6463 - val_loss: 0.5829 - val_acc: 0.7364\n",
      "Epoch 20/100\n",
      "100/100 [==============================] - 23s 227ms/step - loss: 0.6236 - acc: 0.6450 - val_loss: 0.6701 - val_acc: 0.6126\n",
      "Epoch 21/100\n",
      "100/100 [==============================] - 22s 224ms/step - loss: 0.6326 - acc: 0.6475 - val_loss: 0.6640 - val_acc: 0.5948\n",
      "Epoch 22/100\n",
      "100/100 [==============================] - 22s 224ms/step - loss: 0.6200 - acc: 0.6538 - val_loss: 0.6628 - val_acc: 0.6228\n",
      "Epoch 23/100\n",
      "100/100 [==============================] - 23s 226ms/step - loss: 0.6155 - acc: 0.6506 - val_loss: 0.6516 - val_acc: 0.5980\n",
      "Epoch 24/100\n",
      "100/100 [==============================] - 23s 229ms/step - loss: 0.6363 - acc: 0.6369 - val_loss: 0.5962 - val_acc: 0.7186\n",
      "Epoch 25/100\n",
      "100/100 [==============================] - 22s 225ms/step - loss: 0.6236 - acc: 0.6437 - val_loss: 0.8155 - val_acc: 0.5699\n",
      "Epoch 26/100\n",
      "100/100 [==============================] - 23s 225ms/step - loss: 0.6459 - acc: 0.6438 - val_loss: 0.6127 - val_acc: 0.6394\n",
      "Epoch 27/100\n",
      "100/100 [==============================] - 22s 225ms/step - loss: 0.6202 - acc: 0.6412 - val_loss: 0.6615 - val_acc: 0.6407\n",
      "Epoch 28/100\n",
      "100/100 [==============================] - 23s 228ms/step - loss: 0.6153 - acc: 0.6556 - val_loss: 0.6116 - val_acc: 0.6509\n",
      "Epoch 29/100\n",
      "100/100 [==============================] - 22s 224ms/step - loss: 0.6193 - acc: 0.6631 - val_loss: 0.7836 - val_acc: 0.5935\n",
      "Epoch 30/100\n",
      "100/100 [==============================] - 22s 223ms/step - loss: 0.6256 - acc: 0.6556 - val_loss: 0.6420 - val_acc: 0.6822\n",
      "Epoch 31/100\n",
      "100/100 [==============================] - 23s 227ms/step - loss: 0.6201 - acc: 0.6525 - val_loss: 0.6668 - val_acc: 0.6177\n",
      "Epoch 32/100\n",
      "100/100 [==============================] - 22s 222ms/step - loss: 0.6133 - acc: 0.6644 - val_loss: 0.8218 - val_acc: 0.5641\n",
      "Epoch 33/100\n",
      "100/100 [==============================] - 22s 223ms/step - loss: 0.6237 - acc: 0.6438 - val_loss: 0.6205 - val_acc: 0.6892\n",
      "Epoch 34/100\n",
      "100/100 [==============================] - 22s 225ms/step - loss: 0.6435 - acc: 0.6444 - val_loss: 0.6285 - val_acc: 0.6465\n",
      "Epoch 35/100\n",
      "100/100 [==============================] - 22s 222ms/step - loss: 0.6171 - acc: 0.6694 - val_loss: 0.7941 - val_acc: 0.6407\n",
      "Epoch 36/100\n",
      "100/100 [==============================] - 22s 222ms/step - loss: 0.6237 - acc: 0.6400 - val_loss: 0.6135 - val_acc: 0.6669\n",
      "Epoch 37/100\n",
      "100/100 [==============================] - 22s 223ms/step - loss: 0.6154 - acc: 0.6619 - val_loss: 0.6900 - val_acc: 0.6331\n",
      "Epoch 38/100\n",
      "100/100 [==============================] - 23s 226ms/step - loss: 0.5979 - acc: 0.6675 - val_loss: 0.6655 - val_acc: 0.6362\n",
      "Epoch 39/100\n",
      "100/100 [==============================] - 22s 225ms/step - loss: 0.6104 - acc: 0.6606 - val_loss: 0.5938 - val_acc: 0.6886\n",
      "Epoch 40/100\n",
      "100/100 [==============================] - 22s 222ms/step - loss: 0.6067 - acc: 0.6844 - val_loss: 0.5901 - val_acc: 0.6943\n",
      "Epoch 41/100\n",
      "100/100 [==============================] - 23s 225ms/step - loss: 0.6079 - acc: 0.6644 - val_loss: 0.7818 - val_acc: 0.5814\n",
      "Epoch 42/100\n",
      "100/100 [==============================] - 23s 230ms/step - loss: 0.6052 - acc: 0.6769 - val_loss: 0.7567 - val_acc: 0.6024\n",
      "Epoch 43/100\n",
      "100/100 [==============================] - 22s 223ms/step - loss: 0.6103 - acc: 0.6512 - val_loss: 0.6683 - val_acc: 0.6075\n",
      "Epoch 44/100\n",
      "100/100 [==============================] - 22s 223ms/step - loss: 0.6053 - acc: 0.6588 - val_loss: 0.6281 - val_acc: 0.6465\n",
      "Epoch 45/100\n",
      "100/100 [==============================] - 23s 225ms/step - loss: 0.6034 - acc: 0.6713 - val_loss: 0.6777 - val_acc: 0.5818\n",
      "Epoch 46/100\n",
      "100/100 [==============================] - 22s 221ms/step - loss: 0.5970 - acc: 0.6713 - val_loss: 0.6115 - val_acc: 0.7167\n",
      "Epoch 47/100\n",
      "100/100 [==============================] - 22s 223ms/step - loss: 0.5981 - acc: 0.6706 - val_loss: 0.6768 - val_acc: 0.6528\n",
      "Epoch 48/100\n",
      "100/100 [==============================] - 22s 223ms/step - loss: 0.6202 - acc: 0.6569 - val_loss: 0.7593 - val_acc: 0.5539\n",
      "Epoch 49/100\n",
      "100/100 [==============================] - 22s 224ms/step - loss: 0.6048 - acc: 0.6737 - val_loss: 0.6710 - val_acc: 0.6535\n",
      "Epoch 50/100\n",
      "100/100 [==============================] - 22s 223ms/step - loss: 0.5921 - acc: 0.6931 - val_loss: 0.7754 - val_acc: 0.6541\n",
      "Epoch 51/100\n",
      "100/100 [==============================] - 22s 222ms/step - loss: 0.6078 - acc: 0.6606 - val_loss: 0.6654 - val_acc: 0.6241\n",
      "Epoch 52/100\n",
      "100/100 [==============================] - 23s 226ms/step - loss: 0.5972 - acc: 0.6712 - val_loss: 0.6701 - val_acc: 0.6165\n",
      "Epoch 53/100\n",
      "100/100 [==============================] - 22s 222ms/step - loss: 0.5887 - acc: 0.6794 - val_loss: 0.6332 - val_acc: 0.6484\n",
      "Epoch 54/100\n",
      "100/100 [==============================] - 22s 221ms/step - loss: 0.6053 - acc: 0.6781 - val_loss: 0.7440 - val_acc: 0.6784\n",
      "Epoch 55/100\n",
      "100/100 [==============================] - 22s 221ms/step - loss: 0.5882 - acc: 0.6994 - val_loss: 0.6040 - val_acc: 0.7084\n",
      "Epoch 56/100\n",
      "100/100 [==============================] - 23s 228ms/step - loss: 0.6024 - acc: 0.6738 - val_loss: 0.6069 - val_acc: 0.6892\n",
      "Epoch 57/100\n",
      "100/100 [==============================] - 22s 220ms/step - loss: 0.5818 - acc: 0.6900 - val_loss: 0.6922 - val_acc: 0.6433\n",
      "Epoch 58/100\n",
      "100/100 [==============================] - 22s 223ms/step - loss: 0.6008 - acc: 0.6788 - val_loss: 0.6555 - val_acc: 0.6407\n",
      "Epoch 59/100\n",
      "100/100 [==============================] - 22s 222ms/step - loss: 0.5890 - acc: 0.6787 - val_loss: 0.6068 - val_acc: 0.6822\n",
      "Epoch 60/100\n",
      "100/100 [==============================] - 22s 224ms/step - loss: 0.5974 - acc: 0.6750 - val_loss: 0.5889 - val_acc: 0.6911\n",
      "Epoch 61/100\n",
      "100/100 [==============================] - 22s 222ms/step - loss: 0.5855 - acc: 0.6713 - val_loss: 0.7303 - val_acc: 0.6611\n",
      "Epoch 62/100\n",
      "100/100 [==============================] - 22s 222ms/step - loss: 0.5948 - acc: 0.6881 - val_loss: 0.7234 - val_acc: 0.6388\n",
      "Epoch 63/100\n",
      " 80/100 [=======================>......] - ETA: 3s - loss: 0.5960 - acc: 0.6789"
     ]
    }
   ],
   "source": [
    "preds = []\n",
    "ensemble_call_back =[LearningRateScheduler(lr_schedule),es]\n",
    "temp_model = model\n",
    "temp_model.fit_generator(train_generator,steps_per_epoch=100,epochs=100,\\\n",
    "                         verbose=1,validation_data=test_generator,validation_steps=100)\n",
    "preds.append( temp_model.predict_generator(test_generator,16))"
   ]
  },
  {
   "cell_type": "code",
   "execution_count": 8,
   "metadata": {
    "_uuid": "4d8e58db3eade294aa1ec4f4d3849bf4ed15e60e"
   },
   "outputs": [],
   "source": [
    "#acc = history.history['acc']\n",
    "#val_acc = history.history['val_acc']\n",
    "#loss= history.history['loss']\n",
    "#val_loss = history.history['val_loss']\n",
    "res =[]\n",
    "\n",
    "#epochs = range(1,len(acc)+1)"
   ]
  },
  {
   "cell_type": "code",
   "execution_count": 9,
   "metadata": {
    "_uuid": "dc495ad9b42a96320e80ae56a8312087df3c22ce"
   },
   "outputs": [],
   "source": [
    "#plt.plot(epochs,acc,'bo',label='Train_accuracy')\n",
    "#plt.plot(epochs,val_acc,'b',label='validation_accuracy')\n",
    "#plt.title('Training and validation accuracy')\n",
    "#plt.legend()\n",
    "#plt.figure()\n",
    "\n",
    "#plt.plot(epochs,loss,'bo',label='Train_loss')\n",
    "#plt.plot(epochs,val_loss,'b',label='validation_loss')\n",
    "#plt.title('Training and validation loss')\n",
    "#plt.legend()\n",
    "\n",
    "\n",
    "#plt.show()\n",
    "\n",
    "\n",
    "\n"
   ]
  },
  {
   "cell_type": "code",
   "execution_count": 10,
   "metadata": {
    "_uuid": "aaea5d384ddd0a32953f95399ec1b776a675b4d2"
   },
   "outputs": [],
   "source": [
    "#test = model.evaluate_generator(test_generator)\n",
    "#print('validation acc-',test[1]*100,'%')"
   ]
  },
  {
   "cell_type": "code",
   "execution_count": null,
   "metadata": {
    "_uuid": "531c69256a944cacfc03143ce5eff9b61b243b7d"
   },
   "outputs": [],
   "source": []
  },
  {
   "cell_type": "code",
   "execution_count": null,
   "metadata": {
    "_uuid": "54a9ad79e5dd0d7c0a1a6d48dffeac78d59dd3ac"
   },
   "outputs": [],
   "source": []
  },
  {
   "cell_type": "code",
   "execution_count": null,
   "metadata": {
    "_uuid": "b95f4f443671efb35c65bc1a41c5b7a850b53e76"
   },
   "outputs": [],
   "source": []
  },
  {
   "cell_type": "code",
   "execution_count": null,
   "metadata": {
    "_uuid": "dca12cc4d2c939c4ec2c15fb0778430d32002d42"
   },
   "outputs": [],
   "source": []
  }
 ],
 "metadata": {
  "kernelspec": {
   "display_name": "Python 3",
   "language": "python",
   "name": "python3"
  },
  "language_info": {
   "codemirror_mode": {
    "name": "ipython",
    "version": 3
   },
   "file_extension": ".py",
   "mimetype": "text/x-python",
   "name": "python",
   "nbconvert_exporter": "python",
   "pygments_lexer": "ipython3",
   "version": "3.6.6"
  }
 },
 "nbformat": 4,
 "nbformat_minor": 1
}
